{
 "cells": [
  {
   "cell_type": "markdown",
   "id": "4adeed7d",
   "metadata": {},
   "source": [
    "`Topics Covered:`\n",
    "   1. CREATING A FUNCTION\n",
    "   2. Accepting parameters (arguments)\n",
    "   3. Using return\n",
    "   4. What is the difference between return and print\n",
    "   5. ADDING LOGIC TO INTERNAL FUNCTION OPERATIONS | Check if a number is even\n",
    "   6. `Function Example : Print Even Numbers in a Range`\n",
    "   7. `Function Example : Return all even numbers in a list`\n",
    "   8. Returning Tuples for Unpacking\n",
    "   9. `Function Example : Employee of the Month`"
   ]
  },
  {
   "cell_type": "markdown",
   "id": "4f7cb77f",
   "metadata": {},
   "source": [
    "## Introduction to Functions"
   ]
  },
  {
   "cell_type": "markdown",
   "id": "ded899af",
   "metadata": {},
   "source": [
    "you should use functions when you plan on using a block of code multiple times. The function will allow you to call the same block of code without having to write it multiple times."
   ]
  },
  {
   "cell_type": "markdown",
   "id": "0d2cd248",
   "metadata": {},
   "source": [
    "### CREATING A FUNCTION : def keyword"
   ]
  },
  {
   "cell_type": "code",
   "execution_count": 1,
   "id": "ca6d76f5",
   "metadata": {},
   "outputs": [],
   "source": [
    "def name_of_function(arg1,arg2):\n",
    "    '''\n",
    "    This is where the function's Document String (docstring) goes.\n",
    "    When you call help() on your function it will be printed out.\n",
    "    '''\n",
    "    # Do stuff here\n",
    "    # Return desired result"
   ]
  },
  {
   "cell_type": "markdown",
   "id": "69d36b02",
   "metadata": {},
   "source": [
    "### Simple example of a function"
   ]
  },
  {
   "cell_type": "code",
   "execution_count": 3,
   "id": "4e77463b",
   "metadata": {},
   "outputs": [],
   "source": [
    "def say_hello():\n",
    "    print('hello')"
   ]
  },
  {
   "cell_type": "markdown",
   "id": "1fbbe659",
   "metadata": {},
   "source": [
    "### Calling a function"
   ]
  },
  {
   "cell_type": "code",
   "execution_count": 4,
   "id": "f8878a95",
   "metadata": {},
   "outputs": [
    {
     "name": "stdout",
     "output_type": "stream",
     "text": [
      "hello\n"
     ]
    }
   ],
   "source": [
    "say_hello()"
   ]
  },
  {
   "cell_type": "markdown",
   "id": "e5a4526c",
   "metadata": {},
   "source": [
    "If you forget the parenthesis (), it will simply display the fact that say_hello is a function."
   ]
  },
  {
   "cell_type": "code",
   "execution_count": 6,
   "id": "517c2a52",
   "metadata": {},
   "outputs": [
    {
     "data": {
      "text/plain": [
       "<function __main__.say_hello()>"
      ]
     },
     "execution_count": 6,
     "metadata": {},
     "output_type": "execute_result"
    }
   ],
   "source": [
    "say_hello"
   ]
  },
  {
   "cell_type": "markdown",
   "id": "51c8376a",
   "metadata": {},
   "source": [
    "### Accepting parameters (arguments)\n",
    "\n",
    "Let's write a function that greets people with their name."
   ]
  },
  {
   "cell_type": "code",
   "execution_count": 10,
   "id": "cfd9572a",
   "metadata": {},
   "outputs": [],
   "source": [
    "def greeting(name):\n",
    "    print(f\"Hello {name}\")"
   ]
  },
  {
   "cell_type": "code",
   "execution_count": 11,
   "id": "176af9f2",
   "metadata": {},
   "outputs": [
    {
     "name": "stdout",
     "output_type": "stream",
     "text": [
      "Hello Max\n"
     ]
    }
   ],
   "source": [
    "greeting('Max')"
   ]
  },
  {
   "cell_type": "markdown",
   "id": "03c1fb4d",
   "metadata": {},
   "source": [
    "### Using return\n",
    "\n",
    "we actually want to save the resulting variable we need to use the **return** keyword.\n",
    "\n",
    "Let's see some example that use a return statement. return allows a function to return a result that can then be stored as a variable, or used in whatever manner a user wants."
   ]
  },
  {
   "cell_type": "markdown",
   "id": "db320f2e",
   "metadata": {},
   "source": [
    "#### Example: Addition function"
   ]
  },
  {
   "cell_type": "code",
   "execution_count": 13,
   "id": "36da961a",
   "metadata": {},
   "outputs": [],
   "source": [
    "def addnum(num1,num2):\n",
    "    return num1+num2"
   ]
  },
  {
   "cell_type": "code",
   "execution_count": 14,
   "id": "2f513bb4",
   "metadata": {},
   "outputs": [
    {
     "data": {
      "text/plain": [
       "5"
      ]
     },
     "execution_count": 14,
     "metadata": {},
     "output_type": "execute_result"
    }
   ],
   "source": [
    "addnum(2,3)"
   ]
  },
  {
   "cell_type": "code",
   "execution_count": 16,
   "id": "2e262c57",
   "metadata": {},
   "outputs": [
    {
     "name": "stdout",
     "output_type": "stream",
     "text": [
      "9\n"
     ]
    }
   ],
   "source": [
    "# Can also save as variable due to return\n",
    "result = addnum(5,4)\n",
    "print(result)"
   ]
  },
  {
   "cell_type": "markdown",
   "id": "4f439d1a",
   "metadata": {},
   "source": [
    "#### What happens if we input two strings?"
   ]
  },
  {
   "cell_type": "code",
   "execution_count": 17,
   "id": "8560d281",
   "metadata": {},
   "outputs": [
    {
     "data": {
      "text/plain": [
       "'OneFive'"
      ]
     },
     "execution_count": 17,
     "metadata": {},
     "output_type": "execute_result"
    }
   ],
   "source": [
    "addnum('One','Five')"
   ]
  },
  {
   "cell_type": "markdown",
   "id": "39bf34ef",
   "metadata": {},
   "source": [
    "### What is the difference between *return* and *print*"
   ]
  },
  {
   "cell_type": "markdown",
   "id": "e42f0406",
   "metadata": {},
   "source": [
    "**The return keyword allows you to actually save the result of the output of a function as a variable.**\n",
    "\n",
    "**The print() function simply displays the output to you, but doesn't save it for future use. Let's explore this in more detail**"
   ]
  },
  {
   "cell_type": "code",
   "execution_count": 18,
   "id": "62f4f15a",
   "metadata": {},
   "outputs": [],
   "source": [
    "def print_result(a,b):\n",
    "    print(a+b)"
   ]
  },
  {
   "cell_type": "code",
   "execution_count": 19,
   "id": "da365dc5",
   "metadata": {},
   "outputs": [],
   "source": [
    "def return_result(a,b):\n",
    "    return a+b"
   ]
  },
  {
   "cell_type": "code",
   "execution_count": 22,
   "id": "0b96626f",
   "metadata": {},
   "outputs": [
    {
     "name": "stdout",
     "output_type": "stream",
     "text": [
      "15\n"
     ]
    }
   ],
   "source": [
    "# You won't see any output if you run this in a .py script\n",
    "print_result(10,5)"
   ]
  },
  {
   "cell_type": "code",
   "execution_count": 24,
   "id": "6b3daced",
   "metadata": {},
   "outputs": [
    {
     "data": {
      "text/plain": [
       "15"
      ]
     },
     "execution_count": 24,
     "metadata": {},
     "output_type": "execute_result"
    }
   ],
   "source": [
    "#Output\n",
    "return_result(10,5)"
   ]
  },
  {
   "cell_type": "markdown",
   "id": "a8760e13",
   "metadata": {},
   "source": [
    "#### But what happens if we actually want to save this result for later use?"
   ]
  },
  {
   "cell_type": "code",
   "execution_count": 28,
   "id": "44d817d3",
   "metadata": {},
   "outputs": [
    {
     "name": "stdout",
     "output_type": "stream",
     "text": [
      "50\n"
     ]
    }
   ],
   "source": [
    "my_result =  print_result(20,30)"
   ]
  },
  {
   "cell_type": "code",
   "execution_count": 29,
   "id": "e55f61a8",
   "metadata": {},
   "outputs": [],
   "source": [
    "my_result"
   ]
  },
  {
   "cell_type": "code",
   "execution_count": 30,
   "id": "e05a231c",
   "metadata": {},
   "outputs": [
    {
     "data": {
      "text/plain": [
       "NoneType"
      ]
     },
     "execution_count": 30,
     "metadata": {},
     "output_type": "execute_result"
    }
   ],
   "source": [
    "type(my_result)"
   ]
  },
  {
   "cell_type": "markdown",
   "id": "44683a98",
   "metadata": {},
   "source": [
    "`Notice how print_result() doesn't let you actually save the result to a variable! It only prints it out, with print() returning None for the assignment!`"
   ]
  },
  {
   "cell_type": "code",
   "execution_count": 31,
   "id": "3f2c4600",
   "metadata": {},
   "outputs": [],
   "source": [
    "my_result = return_result(20,20)"
   ]
  },
  {
   "cell_type": "code",
   "execution_count": 32,
   "id": "c34c4018",
   "metadata": {},
   "outputs": [
    {
     "data": {
      "text/plain": [
       "40"
      ]
     },
     "execution_count": 32,
     "metadata": {},
     "output_type": "execute_result"
    }
   ],
   "source": [
    "my_result"
   ]
  },
  {
   "cell_type": "code",
   "execution_count": 33,
   "id": "849cf5b0",
   "metadata": {
    "scrolled": true
   },
   "outputs": [
    {
     "data": {
      "text/plain": [
       "80"
      ]
     },
     "execution_count": 33,
     "metadata": {},
     "output_type": "execute_result"
    }
   ],
   "source": [
    "my_result + my_result"
   ]
  },
  {
   "cell_type": "markdown",
   "id": "b18ad214",
   "metadata": {},
   "source": [
    "### ADDING LOGIC TO INTERNAL FUNCTION OPERATIONS"
   ]
  },
  {
   "cell_type": "markdown",
   "id": "c336f888",
   "metadata": {},
   "source": [
    "### Check if a number is even"
   ]
  },
  {
   "cell_type": "markdown",
   "id": "23bd0667",
   "metadata": {},
   "source": [
    "`mod operator % which returns the remainder after division, if a number is even then mod 2 (% 2) should be == to zero.`"
   ]
  },
  {
   "cell_type": "code",
   "execution_count": 36,
   "id": "b572dafa",
   "metadata": {},
   "outputs": [
    {
     "data": {
      "text/plain": [
       "0"
      ]
     },
     "execution_count": 36,
     "metadata": {},
     "output_type": "execute_result"
    }
   ],
   "source": [
    "10 % 2"
   ]
  },
  {
   "cell_type": "code",
   "execution_count": 37,
   "id": "19fb6225",
   "metadata": {},
   "outputs": [
    {
     "data": {
      "text/plain": [
       "0"
      ]
     },
     "execution_count": 37,
     "metadata": {},
     "output_type": "execute_result"
    }
   ],
   "source": [
    "2 % 2"
   ]
  },
  {
   "cell_type": "code",
   "execution_count": 44,
   "id": "0327cea7",
   "metadata": {
    "scrolled": true
   },
   "outputs": [
    {
     "data": {
      "text/plain": [
       "True"
      ]
     },
     "execution_count": 44,
     "metadata": {},
     "output_type": "execute_result"
    }
   ],
   "source": [
    "#boolean Check\n",
    "20 % 2 == 0"
   ]
  },
  {
   "cell_type": "markdown",
   "id": "0adf8f11",
   "metadata": {},
   "source": [
    "#### Function to print Even Numbers in a Range"
   ]
  },
  {
   "cell_type": "code",
   "execution_count": 47,
   "id": "091c0b67",
   "metadata": {},
   "outputs": [],
   "source": [
    "def even_check(num_list):\n",
    "    #check for each item in the range list\n",
    "    for i in num_list:\n",
    "        #if the mod check retuns true print the number\n",
    "        if i % 2 == 0:\n",
    "            print(i)\n",
    "        else:\n",
    "            #pass here does nothing if the number is odd\n",
    "            pass"
   ]
  },
  {
   "cell_type": "code",
   "execution_count": 46,
   "id": "28e161ce",
   "metadata": {},
   "outputs": [
    {
     "name": "stdout",
     "output_type": "stream",
     "text": [
      "2\n",
      "4\n",
      "6\n",
      "8\n",
      "10\n"
     ]
    }
   ],
   "source": [
    "#defining the num_list by giving a range from 1-10\n",
    "even_check(range(1,11))"
   ]
  },
  {
   "cell_type": "markdown",
   "id": "0ff5bf59",
   "metadata": {},
   "source": [
    "### Let's return a boolean indicating if any number in a list is even."
   ]
  },
  {
   "cell_type": "code",
   "execution_count": 56,
   "id": "99e3e185",
   "metadata": {},
   "outputs": [],
   "source": [
    "def check_even_list(num):\n",
    "    # go through each number\n",
    "    for item in num:\n",
    "        # Once we get a \"hit\" on an even number, we return True\n",
    "        if item % 2 == 0:\n",
    "            return True\n",
    "        else:\n",
    "            #this is worng because the first number will return False\n",
    "            #This does not check the other numbers\n",
    "            return False"
   ]
  },
  {
   "cell_type": "code",
   "execution_count": 57,
   "id": "d05ec977",
   "metadata": {},
   "outputs": [
    {
     "data": {
      "text/plain": [
       "False"
      ]
     },
     "execution_count": 57,
     "metadata": {},
     "output_type": "execute_result"
    }
   ],
   "source": [
    "#check the even list\n",
    "#It is returning False after hitting the first 1\n",
    "check_even_list([1,2,3,4,])"
   ]
  },
  {
   "cell_type": "markdown",
   "id": "3c05d0ba",
   "metadata": {},
   "source": [
    "`Correct Approach: We need to initiate a return False AFTER running through the entire loop`"
   ]
  },
  {
   "cell_type": "code",
   "execution_count": 58,
   "id": "34dfcb39",
   "metadata": {},
   "outputs": [],
   "source": [
    "def check_even_list(num):\n",
    "    # go through each number\n",
    "    for item in num:\n",
    "        # Once we get a \"hit\" on an even number, we return True\n",
    "        if item % 2 == 0:\n",
    "            return True\n",
    "        else:\n",
    "            #if odd Dont do anything\n",
    "            pass\n",
    "    #If no enen numbers\n",
    "    #This ensures we run through the entire for loop \n",
    "    return False"
   ]
  },
  {
   "cell_type": "code",
   "execution_count": 61,
   "id": "b2edfae5",
   "metadata": {},
   "outputs": [
    {
     "data": {
      "text/plain": [
       "False"
      ]
     },
     "execution_count": 61,
     "metadata": {},
     "output_type": "execute_result"
    }
   ],
   "source": [
    "#all odd numbers\n",
    "check_even_list([1,3,5])"
   ]
  },
  {
   "cell_type": "code",
   "execution_count": 64,
   "id": "fdc28fc1",
   "metadata": {},
   "outputs": [
    {
     "data": {
      "text/plain": [
       "True"
      ]
     },
     "execution_count": 64,
     "metadata": {},
     "output_type": "execute_result"
    }
   ],
   "source": [
    "#odd number in the centre\n",
    "check_even_list([1,4,6,7,8])"
   ]
  },
  {
   "cell_type": "markdown",
   "id": "d7de773e",
   "metadata": {},
   "source": [
    "### Return all even numbers in a list\n",
    "\n",
    "`we now will return all the even numbers in a list, otherwise return an empty list.`"
   ]
  },
  {
   "cell_type": "code",
   "execution_count": 71,
   "id": "94b950f9",
   "metadata": {},
   "outputs": [],
   "source": [
    "def even_list(num_list):\n",
    "    #Empty list\n",
    "    even_numbers = [ ]\n",
    "    \n",
    "    for i in num_list:\n",
    "        #if any number is even ,append number to the list\n",
    "        if i %2 ==0:\n",
    "            even_numbers.append(i)\n",
    "        else:\n",
    "            #Dont do anything for Odd Numbers\n",
    "            pass\n",
    "    #return the final List\n",
    "    return even_numbers"
   ]
  },
  {
   "cell_type": "code",
   "execution_count": 73,
   "id": "dd2dc287",
   "metadata": {},
   "outputs": [
    {
     "data": {
      "text/plain": [
       "[2, 4, 6, 8, 10, 12, 14, 16, 18, 20]"
      ]
     },
     "execution_count": 73,
     "metadata": {},
     "output_type": "execute_result"
    }
   ],
   "source": [
    "even_list(range(1,21))"
   ]
  },
  {
   "cell_type": "code",
   "execution_count": 75,
   "id": "34abbe6a",
   "metadata": {},
   "outputs": [
    {
     "data": {
      "text/plain": [
       "[]"
      ]
     },
     "execution_count": 75,
     "metadata": {},
     "output_type": "execute_result"
    }
   ],
   "source": [
    "#Empty list as the range was odd numbers\n",
    "even_list(range(1,21,2))"
   ]
  },
  {
   "cell_type": "markdown",
   "id": "5c1e22d2",
   "metadata": {},
   "source": [
    "## Returning Tuples for Unpacking"
   ]
  },
  {
   "cell_type": "code",
   "execution_count": 76,
   "id": "041f0ddb",
   "metadata": {},
   "outputs": [],
   "source": [
    "stock_prices = [('AAPL',200),('GOOG',300),('MSFT',400)]"
   ]
  },
  {
   "cell_type": "code",
   "execution_count": 77,
   "id": "b1b7d433",
   "metadata": {},
   "outputs": [
    {
     "name": "stdout",
     "output_type": "stream",
     "text": [
      "('AAPL', 200)\n",
      "('GOOG', 300)\n",
      "('MSFT', 400)\n"
     ]
    }
   ],
   "source": [
    "for item in stock_prices:\n",
    "    print(item)"
   ]
  },
  {
   "cell_type": "code",
   "execution_count": 80,
   "id": "92f9ee12",
   "metadata": {},
   "outputs": [
    {
     "name": "stdout",
     "output_type": "stream",
     "text": [
      "AAPL\n",
      "GOOG\n",
      "MSFT\n"
     ]
    }
   ],
   "source": [
    "for stock,price in stock_prices:\n",
    "    print(stock)"
   ]
  },
  {
   "cell_type": "code",
   "execution_count": 81,
   "id": "11e5c750",
   "metadata": {},
   "outputs": [
    {
     "name": "stdout",
     "output_type": "stream",
     "text": [
      "200\n",
      "300\n",
      "400\n"
     ]
    }
   ],
   "source": [
    "for stock,price in stock_prices:\n",
    "    print(price)"
   ]
  },
  {
   "cell_type": "markdown",
   "id": "55fc094a",
   "metadata": {},
   "source": [
    "### Example Fuction : Emplyee of the Month"
   ]
  },
  {
   "cell_type": "code",
   "execution_count": 114,
   "id": "e4efe71c",
   "metadata": {},
   "outputs": [],
   "source": [
    "work_hours =  [('Sam',250),('Max',450),('Kim',300)]"
   ]
  },
  {
   "cell_type": "code",
   "execution_count": 121,
   "id": "952dcba2",
   "metadata": {},
   "outputs": [],
   "source": [
    "def employee_of_month(work_hours):\n",
    "    # Set some max value to intially beat, like zero hours\n",
    "    max_hours = 0\n",
    "    # Set some empty value before the loop\n",
    "    employee_name = \" \"\n",
    "    \n",
    "    for employee,hours in work_hours:\n",
    "        if hours > max_hours:\n",
    "            max_hours = hours\n",
    "            employee_name = employee\n",
    "        else:\n",
    "            pass\n",
    "        \n",
    "    return (employee_name, max_hours)"
   ]
  },
  {
   "cell_type": "code",
   "execution_count": 120,
   "id": "11ef0058",
   "metadata": {},
   "outputs": [
    {
     "data": {
      "text/plain": [
       "('Max', 450)"
      ]
     },
     "execution_count": 120,
     "metadata": {},
     "output_type": "execute_result"
    }
   ],
   "source": [
    "employee_of_month(work_hours)"
   ]
  },
  {
   "cell_type": "code",
   "execution_count": null,
   "id": "411c2035",
   "metadata": {},
   "outputs": [],
   "source": []
  }
 ],
 "metadata": {
  "kernelspec": {
   "display_name": "Python 3",
   "language": "python",
   "name": "python3"
  },
  "language_info": {
   "codemirror_mode": {
    "name": "ipython",
    "version": 3
   },
   "file_extension": ".py",
   "mimetype": "text/x-python",
   "name": "python",
   "nbconvert_exporter": "python",
   "pygments_lexer": "ipython3",
   "version": "3.7.0"
  }
 },
 "nbformat": 4,
 "nbformat_minor": 5
}
